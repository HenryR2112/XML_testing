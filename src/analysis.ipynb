{
 "cells": [
  {
   "metadata": {
    "ExecuteTime": {
     "end_time": "2024-06-07T04:39:48.614297Z",
     "start_time": "2024-06-07T04:39:47.989029Z"
    }
   },
   "cell_type": "code",
   "source": [
    "import pandas as pd\n",
    "import numpy as np\n",
    "import matplotlib.pyplot as plt\n",
    "import sqlite3\n",
    "import os\n",
    "\n",
    "# Path to the SQLite database file in the root directory\n",
    "db_path = os.path.abspath(os.path.join(os.getcwd(), '..', 'test_database.db'))\n",
    "\n",
    "# Connect to SQLite database (or create it if it doesn't exist)\n",
    "conn = sqlite3.connect(db_path)\n",
    "\n",
    "# Read data from the database into a DataFrame\n",
    "df = pd.read_sql_query(\"SELECT * FROM test\", conn)\n",
    "\n",
    "# Verify that the result of the SQL query is stored in the DataFrame\n",
    "print(df.head())\n",
    "\n",
    "# Close the database connection\n",
    "conn.close()\n"
   ],
   "id": "initial_id",
   "outputs": [
    {
     "name": "stdout",
     "output_type": "stream",
     "text": [
      "      name    id department   gpa\n",
      "0  William  2162     Doctor  2.78\n",
      "1   Sophia   319    Teacher   NaN\n",
      "2     John  7330  Scientist  3.49\n",
      "3  William  5189     Doctor   NaN\n",
      "4   Sophia  2830     Doctor  2.12\n"
     ]
    }
   ],
   "execution_count": 2
  },
  {
   "metadata": {
    "ExecuteTime": {
     "end_time": "2024-06-07T04:43:07.885291Z",
     "start_time": "2024-06-07T04:43:07.869233Z"
    }
   },
   "cell_type": "code",
   "source": [
    "from sklearn.model_selection import train_test_split\n",
    "from sklearn.linear_model import LinearRegression\n",
    "df = df.dropna()\n",
    "x = df.department\n",
    "x = pd.get_dummies(x)\n",
    "y = df.gpa\n",
    "\n",
    "X_train, X_test, y_train, y_test = train_test_split(x, y, test_size=0.2, random_state=42)\n",
    "m = LinearRegression()\n",
    "m.fit(X_train, y_train)\n",
    "accuracy = m.score(X_train, y_train)\n",
    "print(accuracy)\n"
   ],
   "id": "5940b5a698923998",
   "outputs": [
    {
     "name": "stdout",
     "output_type": "stream",
     "text": [
      "0.03200741791266937\n"
     ]
    }
   ],
   "execution_count": 10
  }
 ],
 "metadata": {
  "kernelspec": {
   "display_name": "Python 3",
   "language": "python",
   "name": "python3"
  },
  "language_info": {
   "codemirror_mode": {
    "name": "ipython",
    "version": 2
   },
   "file_extension": ".py",
   "mimetype": "text/x-python",
   "name": "python",
   "nbconvert_exporter": "python",
   "pygments_lexer": "ipython2",
   "version": "2.7.6"
  }
 },
 "nbformat": 4,
 "nbformat_minor": 5
}
